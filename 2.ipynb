{
  "nbformat": 4,
  "nbformat_minor": 0,
  "metadata": {
    "colab": {
      "provenance": [],
      "authorship_tag": "ABX9TyPZixmrEncSOQcBsVrm+gP6",
      "include_colab_link": true
    },
    "kernelspec": {
      "name": "python3",
      "display_name": "Python 3"
    },
    "language_info": {
      "name": "python"
    }
  },
  "cells": [
    {
      "cell_type": "markdown",
      "metadata": {
        "id": "view-in-github",
        "colab_type": "text"
      },
      "source": [
        "<a href=\"https://colab.research.google.com/github/anam131/BasketBuddy/blob/master/2.ipynb\" target=\"_parent\"><img src=\"https://colab.research.google.com/assets/colab-badge.svg\" alt=\"Open In Colab\"/></a>"
      ]
    },
    {
      "cell_type": "code",
      "execution_count": null,
      "metadata": {
        "colab": {
          "base_uri": "https://localhost:8080/"
        },
        "id": "VXJqZKhgCP9B",
        "outputId": "7f75083e-c222-4875-d89f-59206e39b75b"
      },
      "outputs": [
        {
          "output_type": "stream",
          "name": "stdout",
          "text": [
            "Random 5 image-label pairs:\n",
            "('./images_dataSAT/class_0_non_agri/image_8.png', 0)\n",
            "('./images_dataSAT/class_0_non_agri/image_2.png', 0)\n",
            "('./images_dataSAT/class_0_non_agri/image_5.png', 0)\n",
            "('./images_dataSAT/class_1_agri/image_5.png', 1)\n",
            "('./images_dataSAT/class_1_agri/image_4.png', 1)\n"
          ]
        }
      ],
      "source": [
        "# Module 1: Data Loading and Augmentation Using Keras\n",
        "\n",
        "import os\n",
        "import numpy as np\n",
        "import random\n",
        "import matplotlib.pyplot as plt\n",
        "from tensorflow.keras.preprocessing.image import ImageDataGenerator\n",
        "\n",
        "# Create dummy directories and files for demonstration purposes\n",
        "base_dir = './images_dataSAT'\n",
        "class_0_dir = os.path.join(base_dir, 'class_0_non_agri')\n",
        "class_1_dir = os.path.join(base_dir, 'class_1_agri')\n",
        "\n",
        "os.makedirs(class_0_dir, exist_ok=True)\n",
        "os.makedirs(class_1_dir, exist_ok=True)\n",
        "\n",
        "# Create dummy image files (e.g., using a simple numpy array)\n",
        "def create_dummy_image(filepath):\n",
        "    dummy_image = np.random.randint(0, 256, (32, 32, 3), dtype=np.uint8)\n",
        "    plt.imsave(filepath, dummy_image)\n",
        "\n",
        "for i in range(10): # Create 10 dummy images in each class\n",
        "    create_dummy_image(os.path.join(class_0_dir, f'image_{i}.png'))\n",
        "    create_dummy_image(os.path.join(class_1_dir, f'image_{i}.png'))\n",
        "\n",
        "# Task 1: Create all_image_paths\n",
        "all_image_paths = [os.path.join(class_0_dir, f) for f in os.listdir(class_0_dir)] + \\\n",
        "                  [os.path.join(class_1_dir, f) for f in os.listdir(class_1_dir)]\n",
        "\n",
        "# Task 2: Bind paths and labels, randomly print 5\n",
        "labels = [0] * len(os.listdir(class_0_dir)) + [1] * len(os.listdir(class_1_dir))\n",
        "temp = list(zip(all_image_paths, labels))\n",
        "random.shuffle(temp)\n",
        "\n",
        "print(\"Random 5 image-label pairs:\")\n",
        "for pair in temp[:5]:\n",
        "    print(pair)\n",
        "\n",
        "# Task 3: Create training generator\n",
        "def custom_data_generator(image_paths, labels, batch_size):\n",
        "    datagen = ImageDataGenerator(rescale=1./255)\n",
        "    while True:\n",
        "        for i in range(0, len(image_paths), batch_size):\n",
        "            batch_paths = image_paths[i:i+batch_size]\n",
        "            batch_labels = labels[i:i+batch_size]\n",
        "            # Load images using plt.imread, resize if necessary for consistency\n",
        "            batch_images = [plt.imread(p) for p in batch_paths]\n",
        "            # Ensure all images have the same shape (e.g., resize to 32x32 if not already)\n",
        "            # This is a simplification; in a real scenario, you'd handle image loading and resizing more robustly\n",
        "            batch_images = [np.array(img) for img in batch_images] # Ensure images are numpy arrays\n",
        "            yield np.array(batch_images), np.array(batch_labels)\n",
        "\n",
        "\n",
        "# Split data\n",
        "split_idx = int(0.8 * len(temp))\n",
        "train_data = temp[:split_idx]\n",
        "val_data = temp[split_idx:]\n",
        "\n",
        "train_paths, train_labels = zip(*train_data)\n",
        "val_paths, val_labels = zip(*val_data)\n",
        "\n",
        "train_gen = custom_data_generator(train_paths, train_labels, batch_size=8)\n",
        "\n",
        "# Task 4: Create validation generator\n",
        "val_gen = custom_data_generator(val_paths, val_labels, batch_size=8)"
      ]
    }
  ]
}